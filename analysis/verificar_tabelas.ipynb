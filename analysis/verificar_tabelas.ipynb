{
 "cells": [
  {
   "cell_type": "code",
   "execution_count": 8,
   "metadata": {},
   "outputs": [],
   "source": [
    "import os\n",
    "import psycopg2\n",
    "from sqlalchemy import create_engine\n",
    "from dotenv import load_dotenv\n",
    "import pandas as pd"
   ]
  },
  {
   "cell_type": "code",
   "execution_count": 5,
   "metadata": {},
   "outputs": [],
   "source": [
    "# Parâmetros de conexão com o PostgreSQL\n",
    "db_host = 'localhost'\n",
    "db_port = os.getenv('DB_EXTERNAL_PORT')\n",
    "db_database = os.getenv('DB_DATABASE')\n",
    "db_user = os.getenv('DB_USER')\n",
    "db_password = os.getenv('DB_PASSWORD')"
   ]
  },
  {
   "cell_type": "code",
   "execution_count": 6,
   "metadata": {},
   "outputs": [
    {
     "name": "stdout",
     "output_type": "stream",
     "text": [
      "Conexão com o PostgreSQL estabelecida com sucesso!\n"
     ]
    }
   ],
   "source": [
    "try:\n",
    "    # Testar conexão antes de prosseguir\n",
    "    test_conn = psycopg2.connect(\n",
    "        host=db_host,\n",
    "        port=db_port,\n",
    "        database=db_database,\n",
    "        user=db_user,\n",
    "        password=db_password\n",
    "    )\n",
    "    print(\"Conexão com o PostgreSQL estabelecida com sucesso!\")\n",
    "    test_conn.close()\n",
    "except Exception as e:\n",
    "    print(f\"Erro ao estabelecer conexão com o PostgreSQL: {e}\")"
   ]
  },
  {
   "cell_type": "code",
   "execution_count": 15,
   "metadata": {},
   "outputs": [
    {
     "data": {
      "text/html": [
       "<div>\n",
       "<style scoped>\n",
       "    .dataframe tbody tr th:only-of-type {\n",
       "        vertical-align: middle;\n",
       "    }\n",
       "\n",
       "    .dataframe tbody tr th {\n",
       "        vertical-align: top;\n",
       "    }\n",
       "\n",
       "    .dataframe thead th {\n",
       "        text-align: right;\n",
       "    }\n",
       "</style>\n",
       "<table border=\"1\" class=\"dataframe\">\n",
       "  <thead>\n",
       "    <tr style=\"text-align: right;\">\n",
       "      <th></th>\n",
       "      <th>table_schema</th>\n",
       "      <th>table_name</th>\n",
       "      <th>type</th>\n",
       "    </tr>\n",
       "  </thead>\n",
       "  <tbody>\n",
       "    <tr>\n",
       "      <th>0</th>\n",
       "      <td>bronze</td>\n",
       "      <td>brt_data</td>\n",
       "      <td>table</td>\n",
       "    </tr>\n",
       "    <tr>\n",
       "      <th>1</th>\n",
       "      <td>gold</td>\n",
       "      <td>vw_brt_last_info</td>\n",
       "      <td>materialized view</td>\n",
       "    </tr>\n",
       "  </tbody>\n",
       "</table>\n",
       "</div>"
      ],
      "text/plain": [
       "  table_schema        table_name               type\n",
       "0       bronze          brt_data              table\n",
       "1         gold  vw_brt_last_info  materialized view"
      ]
     },
     "execution_count": 15,
     "metadata": {},
     "output_type": "execute_result"
    }
   ],
   "source": [
    "engine = create_engine(f'postgresql://{db_user}:{db_password}@{db_host}:{db_port}/{db_database}')\n",
    "\n",
    "query = \"\"\"-- Listar Tabelas\n",
    "SELECT table_schema, table_name, 'table' AS type\n",
    "FROM information_schema.tables\n",
    "WHERE table_schema IN ('bronze', 'silver', 'gold')\n",
    "  AND table_type = 'BASE TABLE'\n",
    "\n",
    "UNION\n",
    "\n",
    "-- Listar Views\n",
    "SELECT table_schema, table_name, 'view' AS type\n",
    "FROM information_schema.views\n",
    "WHERE table_schema IN ('bronze', 'silver', 'gold')\n",
    "\n",
    "UNION\n",
    "\n",
    "-- Listar Views Materializadas\n",
    "SELECT schemaname, matviewname AS table_name, 'materialized view' AS type\n",
    "FROM pg_matviews\n",
    "WHERE schemaname IN ('bronze', 'silver', 'gold')\n",
    "ORDER BY table_schema, table_name;\n",
    "\"\"\"\n",
    "available_tables = pd.read_sql(query, con=engine)\n",
    "available_tables"
   ]
  }
 ],
 "metadata": {
  "kernelspec": {
   "display_name": "desafio-gps-brt-env",
   "language": "python",
   "name": "python3"
  },
  "language_info": {
   "codemirror_mode": {
    "name": "ipython",
    "version": 3
   },
   "file_extension": ".py",
   "mimetype": "text/x-python",
   "name": "python",
   "nbconvert_exporter": "python",
   "pygments_lexer": "ipython3",
   "version": "3.10.16"
  }
 },
 "nbformat": 4,
 "nbformat_minor": 2
}
